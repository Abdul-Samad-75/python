{
  "nbformat": 4,
  "nbformat_minor": 0,
  "metadata": {
    "colab": {
      "provenance": [],
      "authorship_tag": "ABX9TyP4oH1ONMB4FgO4BqC37PNZ",
      "include_colab_link": true
    },
    "kernelspec": {
      "name": "python3",
      "display_name": "Python 3"
    },
    "language_info": {
      "name": "python"
    }
  },
  "cells": [
    {
      "cell_type": "markdown",
      "metadata": {
        "id": "view-in-github",
        "colab_type": "text"
      },
      "source": [
        "<a href=\"https://colab.research.google.com/github/Abdul-Samad-75/python/blob/master/datatypes.ipynb\" target=\"_parent\"><img src=\"https://colab.research.google.com/assets/colab-badge.svg\" alt=\"Open In Colab\"/></a>"
      ]
    },
    {
      "cell_type": "markdown",
      "source": [
        "In Python, data types define the kind of value a variable can hold. Python has built-in types, and variables dynamically adopt their type based on the assigned value. Common types include:"
      ],
      "metadata": {
        "id": "s6pkT-CK-jda"
      }
    },
    {
      "cell_type": "code",
      "source": [
        "age = 25                # int (integer)\n",
        "price = 19.99           # float (decimal)\n",
        "name = \"Bob\"            # str (string)\n",
        "is_valid = True         # bool (boolean)\n",
        "numbers = [1, 2, 3]     # list (ordered, mutable)\n",
        "coordinates = (4, 5)    # tuple (ordered, immutable)\n",
        "unique_nums = {1, 2, 3} # set (unordered, unique)\n",
        "person = {\"name\": \"Alice\", \"age\": 30}  # dict (key-value pairs)\n",
        "nothing = None          # NoneType (no value)"
      ],
      "metadata": {
        "id": "w_Lli4ln-l1Y"
      },
      "execution_count": 4,
      "outputs": []
    },
    {
      "cell_type": "code",
      "source": [
        "type(age), type(price), type(name), type(is_valid), type(numbers), type(coordinates), type(unique_nums), type(person), type(nothing)"
      ],
      "metadata": {
        "colab": {
          "base_uri": "https://localhost:8080/"
        },
        "id": "Pu81NVf0-4jD",
        "outputId": "fc08396c-7540-4c9f-9241-84b5cfe2b955"
      },
      "execution_count": 6,
      "outputs": [
        {
          "output_type": "execute_result",
          "data": {
            "text/plain": [
              "(int, float, str, bool, list, tuple, set, dict, NoneType)"
            ]
          },
          "metadata": {},
          "execution_count": 6
        }
      ]
    }
  ]
}