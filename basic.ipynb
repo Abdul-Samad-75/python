{
  "nbformat": 4,
  "nbformat_minor": 0,
  "metadata": {
    "colab": {
      "provenance": [],
      "authorship_tag": "ABX9TyPQQbfMpFWBAArxz8YO/KFc",
      "include_colab_link": true
    },
    "kernelspec": {
      "name": "python3",
      "display_name": "Python 3"
    },
    "language_info": {
      "name": "python"
    }
  },
  "cells": [
    {
      "cell_type": "markdown",
      "metadata": {
        "id": "view-in-github",
        "colab_type": "text"
      },
      "source": [
        "<a href=\"https://colab.research.google.com/github/Abdul-Samad-75/python/blob/master/basic.ipynb\" target=\"_parent\"><img src=\"https://colab.research.google.com/assets/colab-badge.svg\" alt=\"Open In Colab\"/></a>"
      ]
    },
    {
      "cell_type": "markdown",
      "source": [
        "**Variables:**\n",
        "In Python, a variable is a name that refers to a value stored in memory. It is created by assigning a value with =, requires no explicit declaration, and can dynamically change type. For example:\n"
      ],
      "metadata": {
        "id": "6Vg7WFWP3Dxd"
      }
    },
    {
      "cell_type": "code",
      "execution_count": 7,
      "metadata": {
        "id": "NiC3UGR-13jO"
      },
      "outputs": [],
      "source": [
        "age = 25          # integer\n",
        "name = \"Alice\"    # string\n",
        "is_student = True # boolean\n",
        "\n"
      ]
    },
    {
      "cell_type": "code",
      "source": [
        "age,name,is_student"
      ],
      "metadata": {
        "colab": {
          "base_uri": "https://localhost:8080/"
        },
        "id": "Kn8fVKk_9Ypw",
        "outputId": "d1b12b32-6409-4329-b507-b55ba21dbece"
      },
      "execution_count": 8,
      "outputs": [
        {
          "output_type": "execute_result",
          "data": {
            "text/plain": [
              "(25, 'Alice', True)"
            ]
          },
          "metadata": {},
          "execution_count": 8
        }
      ]
    }
  ]
}